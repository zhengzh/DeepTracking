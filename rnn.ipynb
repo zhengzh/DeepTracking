{
 "cells": [
  {
   "cell_type": "code",
   "execution_count": 1,
   "metadata": {},
   "outputs": [],
   "source": [
    "import torch\n",
    "import torch.nn as nn"
   ]
  },
  {
   "cell_type": "code",
   "execution_count": 2,
   "metadata": {},
   "outputs": [
    {
     "name": "stdout",
     "output_type": "stream",
     "text": [
      "[tensor([[-0.1170, -0.4096, -0.2479, -0.4454, -0.7705],\n",
      "        [-0.2185,  0.0560, -0.9845, -1.8440, -1.5295],\n",
      "        [-0.3199,  0.5217, -1.7211, -3.2425, -2.2885],\n",
      "        [ 1.4006,  1.2876, -0.7656, -3.4194, -1.1290]],\n",
      "       grad_fn=<AddmmBackward>), tensor([[ 0.0504,  1.6059, -2.2041, -3.6101, -2.3610],\n",
      "        [-0.0566,  0.2334, -0.2526, -0.0286, -0.7397],\n",
      "        [-0.0437,  1.5011, -1.5801, -2.4966, -1.8810],\n",
      "        [ 0.2074,  0.5984, -1.0458, -2.0238,  0.0129]],\n",
      "       grad_fn=<AddmmBackward>)]\n",
      "tensor([[ 0.0504,  1.6059, -2.2041, -3.6101, -2.3610],\n",
      "        [-0.0566,  0.2334, -0.2526, -0.0286, -0.7397],\n",
      "        [-0.0437,  1.5011, -1.5801, -2.4966, -1.8810],\n",
      "        [ 0.2074,  0.5984, -1.0458, -2.0238,  0.0129]],\n",
      "       grad_fn=<AddmmBackward>)\n"
     ]
    }
   ],
   "source": [
    "\n",
    "class RNNCell(nn.Module):\n",
    "    \n",
    "    def __init__(self, input_size, hidden_size):\n",
    "        super(RNNCell, self).__init__()\n",
    "\n",
    "        self.xh = nn.Linear(input_size, hidden_size)\n",
    "        self.hh = nn.Linear(hidden_size, hidden_size)\n",
    "       \n",
    "        self.ch = nn.Linear(input_size+hidden_size, hidden_size)\n",
    "        \n",
    "    def forward(self, x, h):\n",
    "        h = self.xh(x) + self.hh(h)\n",
    "        return h\n",
    "    def forward2(self, x, h):\n",
    "\n",
    "        concat = torch.cat((x, h), 1)\n",
    "        h = self.ch(concat)\n",
    "        return h\n",
    "        \n",
    "\n",
    "class CleanBasicRNN(nn.Module):\n",
    "    def __init__(self,  n_inputs, n_neurons):\n",
    "        super(CleanBasicRNN, self).__init__()\n",
    "        \n",
    "        self.n_neurons = n_neurons\n",
    "        self.rnn = RNNCell(n_inputs, n_neurons)\n",
    "        \n",
    "    def forward(self, X): # [seq_len, batch_size, input_size]\n",
    "        output = []\n",
    "\n",
    "        hx = torch.zeros(X.shape[1], self.n_neurons)\n",
    "        # for each time step\n",
    "        for i in range(X.shape[0]):\n",
    "            hx = self.rnn.forward2(X[i], hx)\n",
    "            output.append(hx)\n",
    "        \n",
    "        return output, hx\n",
    "\n",
    "FIXED_BATCH_SIZE = 4 # our batch size is fixed for now\n",
    "N_INPUT = 3\n",
    "N_NEURONS = 5\n",
    "\n",
    "X_batch = torch.tensor([[[0,1,2], [3,4,5], \n",
    "                         [6,7,8], [9,0,1]],\n",
    "                        [[9,8,7], [0,0,0], \n",
    "                         [6,5,4], [3,2,1]]\n",
    "                       ], dtype = torch.float) # X0 and X1\n",
    "\n",
    "\n",
    "model = CleanBasicRNN(N_INPUT, N_NEURONS)\n",
    "output_val, states_val = model(X_batch)\n",
    "print(output_val) # contains all output for all timesteps\n",
    "print(states_val) # contains values for final state or final timestep, i.e., t=1"
   ]
  },
  {
   "cell_type": "code",
   "execution_count": 3,
   "metadata": {},
   "outputs": [],
   "source": [
    "rnn = nn.RNN(10, 20, 2)\n",
    "input = torch.randn(5, 3, 10)\n",
    "h0 = torch.randn(2, 3, 20)\n",
    "output, hn = rnn(input, h0)"
   ]
  },
  {
   "cell_type": "code",
   "execution_count": 4,
   "metadata": {},
   "outputs": [
    {
     "data": {
      "text/plain": [
       "torch.Size([5, 3, 20])"
      ]
     },
     "execution_count": 4,
     "metadata": {},
     "output_type": "execute_result"
    }
   ],
   "source": [
    "output.shape"
   ]
  },
  {
   "cell_type": "code",
   "execution_count": 5,
   "metadata": {},
   "outputs": [],
   "source": [
    "from pylab import *"
   ]
  },
  {
   "cell_type": "code",
   "execution_count": 8,
   "metadata": {},
   "outputs": [
    {
     "data": {
      "text/plain": [
       "0.4636476090008061"
      ]
     },
     "execution_count": 8,
     "metadata": {},
     "output_type": "execute_result"
    }
   ],
   "source": [
    "math.atan2(1,2)"
   ]
  },
  {
   "cell_type": "code",
   "execution_count": 19,
   "metadata": {},
   "outputs": [
    {
     "data": {
      "text/plain": [
       "<matplotlib.image.AxesImage at 0x13492c8c748>"
      ]
     },
     "execution_count": 19,
     "metadata": {},
     "output_type": "execute_result"
    },
    {
     "data": {
      "image/png": "[encoded data removed]",
      "text/plain": [
       "<Figure size 288x288 with 1 Axes>"
      ]
     },
     "metadata": {
      "needs_background": "light"
     },
     "output_type": "display_data"
    }
   ],
   "source": [
    "matshow(np.identity(5))"
   ]
  },
  {
   "cell_type": "code",
   "execution_count": 22,
   "metadata": {},
   "outputs": [
    {
     "data": {
      "text/plain": [
       "<matplotlib.image.AxesImage at 0x13492b6ab00>"
      ]
     },
     "execution_count": 22,
     "metadata": {},
     "output_type": "execute_result"
    },
    {
     "data": {
      "image/png": "[encoded data removed]",
      "text/plain": [
       "<Figure size 432x288 with 1 Axes>"
      ]
     },
     "metadata": {
      "needs_background": "light"
     },
     "output_type": "display_data"
    }
   ],
   "source": [
    "imshow(np.identity(5))"
   ]
  },
  {
   "cell_type": "code",
   "execution_count": 25,
   "metadata": {},
   "outputs": [
    {
     "data": {
      "text/plain": [
       "3.0"
      ]
     },
     "execution_count": 25,
     "metadata": {},
     "output_type": "execute_result"
    }
   ],
   "source": [
    "np.sum((1.,2))"
   ]
  },
  {
   "cell_type": "code",
   "execution_count": 28,
   "metadata": {},
   "outputs": [
    {
     "ename": "NameError",
     "evalue": "name '_1' is not defined",
     "output_type": "error",
     "traceback": [
      "\u001b[1;31m---------------------------------------------------------------------------\u001b[0m",
      "\u001b[1;31mNameError\u001b[0m                                 Traceback (most recent call last)",
      "\u001b[1;32m<ipython-input-28-2fee90e148a2>\u001b[0m in \u001b[0;36m<module>\u001b[1;34m\u001b[0m\n\u001b[1;32m----> 1\u001b[1;33m \u001b[0m_1\u001b[0m\u001b[1;33m\u001b[0m\u001b[1;33m\u001b[0m\u001b[0m\n\u001b[0m",
      "\u001b[1;31mNameError\u001b[0m: name '_1' is not defined"
     ]
    }
   ],
   "source": [
    "_1"
   ]
  },
  {
   "cell_type": "code",
   "execution_count": 44,
   "metadata": {},
   "outputs": [
    {
     "data": {
      "text/plain": [
       "6"
      ]
     },
     "execution_count": 44,
     "metadata": {},
     "output_type": "execute_result"
    }
   ],
   "source": [
    "sum((3,3))"
   ]
  },
  {
   "cell_type": "code",
   "execution_count": null,
   "metadata": {},
   "outputs": [],
   "source": []
  }
 ],
 "metadata": {
  "kernelspec": {
   "display_name": "Python 3",
   "language": "python",
   "name": "python3"
  },
  "language_info": {
   "codemirror_mode": {
    "name": "ipython",
    "version": 3
   },
   "file_extension": ".py",
   "mimetype": "text/x-python",
   "name": "python",
   "nbconvert_exporter": "python",
   "pygments_lexer": "ipython3",
   "version": "3.7.2"
  }
 },
 "nbformat": 4,
 "nbformat_minor": 2
}

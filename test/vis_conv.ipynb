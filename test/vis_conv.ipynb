{
 "cells": [
  {
   "cell_type": "code",
   "execution_count": 1,
   "metadata": {},
   "outputs": [
    {
     "name": "stdout",
     "output_type": "stream",
     "text": [
      "total parameters: 190342\n"
     ]
    }
   ],
   "source": [
    "from train_conv import *"
   ]
  },
  {
   "cell_type": "code",
   "execution_count": 2,
   "metadata": {},
   "outputs": [],
   "source": [
    "weight = torch.load('./save/weights/500000.dat')"
   ]
  },
  {
   "cell_type": "code",
   "execution_count": 3,
   "metadata": {},
   "outputs": [],
   "source": [
    "evaluate(weight, idx=8)"
   ]
  },
  {
   "cell_type": "code",
   "execution_count": 4,
   "metadata": {},
   "outputs": [],
   "source": [
    "num = 6\n",
    "ifs = ['input_%d.bmp' % (i) for i in range(0, num)]\n",
    "ofs = ['output_%d.bmp' % (i) for i in range(0, num)]\n",
    "\n",
    "d = 'save/video/'\n",
    "ips = [Image.open(d+i) for i in ifs]\n",
    "ops = [Image.open(d+i) for i in ofs]"
   ]
  },
  {
   "cell_type": "code",
   "execution_count": 5,
   "metadata": {},
   "outputs": [
    {
     "data": {
      "application/vnd.jupyter.widget-view+json": {
       "model_id": "fef93ca600564be6a43cf3e2e3c853bb",
       "version_major": 2,
       "version_minor": 0
      },
      "text/plain": [
       "interactive(children=(IntSlider(value=2, description='i', max=5), Output(layout=Layout(height='500px'))), _dom…"
      ]
     },
     "metadata": {},
     "output_type": "display_data"
    }
   ],
   "source": [
    "%matplotlib inline\n",
    "from ipywidgets import interactive\n",
    "import matplotlib.pyplot as plt\n",
    "import numpy as np\n",
    "def f(i):\n",
    "    plt.figure(2,figsize=(8,8))\n",
    "    x=np.array(ips[i])\n",
    "    y=np.array(ops[i])\n",
    "    plt.imshow(x, alpha=0.5)\n",
    "    plt.imshow(y, cmap='Greys', alpha=0.5)\n",
    "\n",
    "interactive_plot = interactive(f, i=(0,5))\n",
    "output = interactive_plot.children[-1]\n",
    "output.layout.height = '500px'\n",
    "interactive_plot"
   ]
  },
  {
   "cell_type": "code",
   "execution_count": 6,
   "metadata": {},
   "outputs": [],
   "source": [
    "input, y=getSequence(3)\n",
    "with torch.no_grad():\n",
    "    output, hidden = model(input)"
   ]
  },
  {
   "cell_type": "code",
   "execution_count": 7,
   "metadata": {},
   "outputs": [
    {
     "data": {
      "application/vnd.jupyter.widget-view+json": {
       "model_id": "0659c9d8f1d04cafbdebc7cf912a8576",
       "version_major": 2,
       "version_minor": 0
      },
      "text/plain": [
       "interactive(children=(IntSlider(value=1, description='hn', max=2), IntSlider(value=31, description='cha', max=…"
      ]
     },
     "metadata": {},
     "output_type": "display_data"
    }
   ],
   "source": [
    "def show_h(hn,cha):\n",
    "    fig=plt.figure(3,figsize=(8,8))\n",
    "    p=plt.imshow(hidden[hn][0,cha].cpu())\n",
    "    fig.colorbar(p)\n",
    "\n",
    "\n",
    "interactive_plot = interactive(show_h, hn=(0,2),cha=(0,63))\n",
    "output = interactive_plot.children[-1]\n",
    "output.layout.height = '500px'\n",
    "interactive_plot"
   ]
  }
 ],
 "metadata": {
  "kernelspec": {
   "display_name": "Python 3",
   "language": "python",
   "name": "python3"
  },
  "language_info": {
   "codemirror_mode": {
    "name": "ipython",
    "version": 3
   },
   "file_extension": ".py",
   "mimetype": "text/x-python",
   "name": "python",
   "nbconvert_exporter": "python",
   "pygments_lexer": "ipython3",
   "version": "3.6.2"
  }
 },
 "nbformat": 4,
 "nbformat_minor": 2
}
